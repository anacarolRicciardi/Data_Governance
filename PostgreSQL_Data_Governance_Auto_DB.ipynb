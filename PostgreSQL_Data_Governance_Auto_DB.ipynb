{
 "cells": [
  {
   "cell_type": "markdown",
   "id": "db47dab7",
   "metadata": {},
   "source": [
    "# PostgreSQL Data Governance Demonstration\n",
    "This notebook demonstrates how to implement **data governance** principles using PostgreSQL. It covers user management, access control, and best practices for securing sensitive data.\n",
    "\n",
    "We will work with a sample **patients database**, ensuring compliance with privacy and security regulations.\n"
   ]
  },
  {
   "cell_type": "markdown",
   "id": "4e649c36",
   "metadata": {},
   "source": [
    "## Database Connection Setup and Auto-Creation\n",
    "If the database does not exist, it will be created automatically."
   ]
  },
  {
   "cell_type": "code",
   "execution_count": null,
   "id": "4114bc4d",
   "metadata": {},
   "outputs": [],
   "source": [
    "from sqlalchemy import create_engine\n",
    "import psycopg2\n",
    "\n",
    "# PostgreSQL connection settings\n",
    "PG_ADDR = 'localhost'  # Server address\n",
    "PG_PORT = '5432'       # PostgreSQL port\n",
    "PG_USER = 'postgres'   # Admin user\n",
    "PG_PASW = 'secure_password'  # Secure password\n",
    "PG_DBNA = 'healthcare_db'  # Database name\n",
    "\n",
    "# Connect to default PostgreSQL database to check and create if needed\n",
    "default_engine = create_engine(f'postgresql://{PG_USER}:{PG_PASW}@{PG_ADDR}:{PG_PORT}/postgres')\n",
    "\n",
    "with default_engine.connect().execution_options(autocommit=True) as conn:\n",
    "    result = conn.execute(\"SELECT 1 FROM pg_database WHERE datname = %s;\", (PG_DBNA,))\n",
    "    exists = result.scalar()\n",
    "    \n",
    "    if not exists:\n",
    "        conn.execute(f\"CREATE DATABASE {PG_DBNA};\")\n",
    "        print(f\"Database '{PG_DBNA}' created successfully!\")\n",
    "\n",
    "# Now connect to the newly created database\n",
    "engine = create_engine(f'postgresql://{PG_USER}:{PG_PASW}@{PG_ADDR}:{PG_PORT}/{PG_DBNA}')\n",
    "print(f\"Connected to database '{PG_DBNA}'.\")"
   ]
  },
  {
   "cell_type": "markdown",
   "id": "df527ccc",
   "metadata": {},
   "source": [
    "## Creating the Patients Table\n",
    "Let's create a new table to store patient information. This table includes sensitive data, so we will ensure proper access control."
   ]
  },
  {
   "cell_type": "code",
   "execution_count": null,
   "id": "dfaa96ba",
   "metadata": {},
   "outputs": [],
   "source": [
    "with engine.connect().execution_options(autocommit=True) as conn:\n",
    "    conn.execute('''DROP TABLE IF EXISTS patients;''')\n",
    "    conn.execute('''\n",
    "        CREATE TABLE patients (\n",
    "            id SERIAL PRIMARY KEY,\n",
    "            full_name VARCHAR(100),\n",
    "            date_of_birth DATE,\n",
    "            country VARCHAR(50),\n",
    "            diagnosis VARCHAR(100),\n",
    "            insurance_amount DECIMAL(10,2)\n",
    "        );\n",
    "    ''')\n",
    "print(\"Table 'patients' created successfully!\")"
   ]
  },
  {
   "cell_type": "markdown",
   "id": "5f9840bc",
   "metadata": {},
   "source": [
    "## Inserting Sample Patient Data\n",
    "Now, we will populate the **patients** table with fictitious data."
   ]
  },
  {
   "cell_type": "code",
   "execution_count": null,
   "id": "feebc2ee",
   "metadata": {},
   "outputs": [],
   "source": [
    "with engine.connect().execution_options(autocommit=True) as conn:\n",
    "    conn.execute(\"INSERT INTO patients (full_name, date_of_birth, country, diagnosis, insurance_amount) VALUES ('Melissa Clark', '1935-04-04', 'Svalbard & Jan Mayen Islands', 'Heart Disease', 3370.96);\")\n",
    "    conn.execute(\"INSERT INTO patients (full_name, date_of_birth, country, diagnosis, insurance_amount) VALUES ('Wendy Taylor', '2018-04-11', 'Cambodia', 'Heart Disease', 1393.28);\")\n",
    "    conn.execute(\"INSERT INTO patients (full_name, date_of_birth, country, diagnosis, insurance_amount) VALUES ('Jennifer Lopez', '1999-08-09', 'Czech Republic', 'Cancer', 1788.08);\")\n",
    "    conn.execute(\"INSERT INTO patients (full_name, date_of_birth, country, diagnosis, insurance_amount) VALUES ('Steven Price', '1973-10-30', 'Ethiopia', 'Heart Disease', 4709.11);\")\n",
    "    conn.execute(\"INSERT INTO patients (full_name, date_of_birth, country, diagnosis, insurance_amount) VALUES ('Michael Thomas', '2009-06-01', 'United States of America', 'Cancer', 4859.27);\")\n",
    "    conn.execute(\"INSERT INTO patients (full_name, date_of_birth, country, diagnosis, insurance_amount) VALUES ('Tracy Morris', '1997-09-20', 'French Guiana', 'Diabetes', 1957.53);\")\n",
    "    conn.execute(\"INSERT INTO patients (full_name, date_of_birth, country, diagnosis, insurance_amount) VALUES ('Patrick Pacheco', '1984-07-12', 'Israel', 'Hypertension', 3688.64);\")\n",
    "    conn.execute(\"INSERT INTO patients (full_name, date_of_birth, country, diagnosis, insurance_amount) VALUES ('Valerie Dixon', '1987-08-29', 'Belize', 'Hypertension', 2058.29);\")\n",
    "    conn.execute(\"INSERT INTO patients (full_name, date_of_birth, country, diagnosis, insurance_amount) VALUES ('Kathryn Atkinson', '2015-08-30', 'Guyana', 'Diabetes', 3004.28);\")\n",
    "    conn.execute(\"INSERT INTO patients (full_name, date_of_birth, country, diagnosis, insurance_amount) VALUES ('Terrence Kidd', '1965-11-27', 'Mauritius', 'Heart Disease', 2205.32);\")\n",
    "print(\"Sample patient data inserted successfully!\")"
   ]
  },
  {
   "cell_type": "markdown",
   "id": "ac52d4d3",
   "metadata": {},
   "source": [
    "## Managing User Access\n",
    "We will now create three new users with different roles and apply access restrictions."
   ]
  },
  {
   "cell_type": "code",
   "execution_count": null,
   "id": "13d80992",
   "metadata": {},
   "outputs": [],
   "source": [
    "users = ['nurse', 'consultant', 'doctor']\n",
    "\n",
    "with engine.connect().execution_options(autocommit=True) as conn:\n",
    "    for user in users:\n",
    "        conn.execute(f\"DROP USER IF EXISTS {user};\")\n",
    "        conn.execute(f\"CREATE USER {user} WITH PASSWORD 'password123';\")\n",
    "print(\"Users created successfully!\")"
   ]
  },
  {
   "cell_type": "markdown",
   "id": "7ccf8675",
   "metadata": {},
   "source": [
    "## Revoking Privileges from Admin User\n",
    "To enforce stricter data governance, we will revoke all privileges on the `patients` table from the **postgres** admin user."
   ]
  },
  {
   "cell_type": "code",
   "execution_count": null,
   "id": "797b6867",
   "metadata": {},
   "outputs": [],
   "source": [
    "with engine.connect().execution_options(autocommit=True) as conn:\n",
    "    conn.execute(\"REVOKE ALL PRIVILEGES ON TABLE patients FROM postgres;\")\n",
    "print(\"Privileges revoked from 'postgres' user!\")"
   ]
  },
  {
   "cell_type": "markdown",
   "id": "6f7861eb",
   "metadata": {},
   "source": [
    "## Verifying Permissions\n",
    "Let's check which users currently have access to the `patients` table."
   ]
  },
  {
   "cell_type": "code",
   "execution_count": null,
   "id": "857057cd",
   "metadata": {},
   "outputs": [],
   "source": [
    "with engine.connect() as conn:\n",
    "    result = conn.execute(\n",
    "        \"SELECT grantee, privilege_type FROM information_schema.role_table_grants \"\n",
    "        \"WHERE table_name = 'patients';\"\n",
    "    )\n",
    "    for row in result:\n",
    "        print(row)\n",
    "print(\"Current access privileges displayed!\")"
   ]
  }
 ],
 "metadata": {},
 "nbformat": 4,
 "nbformat_minor": 5
}
