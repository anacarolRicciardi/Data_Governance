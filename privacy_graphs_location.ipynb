{
 "cells": [
  {
   "cell_type": "markdown",
   "id": "0f5a51a8",
   "metadata": {},
   "source": [
    "# Privacy in Graphs and Location Privacy Mechanisms"
   ]
  },
  {
   "cell_type": "markdown",
   "id": "261cf223",
   "metadata": {},
   "source": [
    "\n",
    "## Introduction\n",
    "\n",
    "In modern data privacy, two significant areas of study include **privacy in graphs** and **location privacy mechanisms**.\n",
    "Graphs are widely used in **social networks, transportation, and recommendation systems**, but they also present privacy risks.\n",
    "Similarly, **location data** can reveal sensitive information about individuals, making **false location techniques** essential for privacy preservation.\n",
    "\n",
    "This notebook explores **two fundamental topics**:\n",
    "\n",
    "1. **Privacy in Graphs** - How differential privacy applies to graphs and techniques for protecting node identity and relationships.\n",
    "2. **False Location Techniques** - Methods to anonymize location data while maintaining usability.\n",
    "\n",
    "We will use **synthetic datasets** to demonstrate these techniques, followed by **Machine Learning (ML) analysis** to evaluate their impact.\n",
    "\n",
    "---\n"
   ]
  },
  {
   "cell_type": "code",
   "execution_count": null,
   "id": "e9ac1a5c",
   "metadata": {},
   "outputs": [],
   "source": [
    "\n",
    "import numpy as np\n",
    "import pandas as pd\n",
    "import matplotlib.pyplot as plt\n",
    "import networkx as nx\n",
    "import random\n",
    "\n",
    "# Set seed for reproducibility\n",
    "random.seed(42)\n",
    "np.random.seed(42)\n"
   ]
  },
  {
   "cell_type": "markdown",
   "id": "f1d80039",
   "metadata": {},
   "source": [
    "## Privacy in Graphs"
   ]
  },
  {
   "cell_type": "code",
   "execution_count": null,
   "id": "dde52538",
   "metadata": {},
   "outputs": [],
   "source": [
    "\n",
    "# Generate a synthetic graph with random connections\n",
    "num_nodes = 20\n",
    "graph = nx.erdos_renyi_graph(num_nodes, p=0.3, seed=42)\n",
    "\n",
    "# Function to apply edge perturbation\n",
    "def perturb_edges(graph, p_remove=0.1, p_add=0.1):\n",
    "    new_graph = graph.copy()\n",
    "    for edge in list(new_graph.edges):\n",
    "        if np.random.rand() < p_remove:\n",
    "            new_graph.remove_edge(*edge)\n",
    "    while np.random.rand() < p_add:\n",
    "        node1, node2 = np.random.choice(list(new_graph.nodes), 2, replace=False)\n",
    "        new_graph.add_edge(node1, node2)\n",
    "    return new_graph\n",
    "\n",
    "# Apply perturbation\n",
    "perturbed_graph = perturb_edges(graph)\n",
    "\n",
    "# Plot original and perturbed graphs\n",
    "plt.figure(figsize=(10, 5))\n",
    "nx.draw(graph, with_labels=True, node_color=\"lightblue\")\n",
    "plt.title(\"Original Graph\")\n",
    "nx.draw(perturbed_graph, with_labels=True, node_color=\"lightcoral\")\n",
    "plt.title(\"Perturbed Graph\")\n",
    "plt.show()\n"
   ]
  },
  {
   "cell_type": "markdown",
   "id": "cccf75f2",
   "metadata": {},
   "source": [
    "## False Location Privacy Mechanisms"
   ]
  },
  {
   "cell_type": "code",
   "execution_count": null,
   "id": "dafae32f",
   "metadata": {},
   "outputs": [],
   "source": [
    "\n",
    "# Generate a synthetic dataset of user locations\n",
    "num_users = 100\n",
    "real_latitudes = np.random.uniform(-90, 90, num_users)\n",
    "real_longitudes = np.random.uniform(-180, 180, num_users)\n",
    "\n",
    "# Create a function to generate dummy locations\n",
    "def generate_dummy_locations(lat, lon, num_dummies=5, radius=0.1):\n",
    "    \"\"\"Generate fake locations around a real location.\"\"\"\n",
    "    dummies = []\n",
    "    for _ in range(num_dummies):\n",
    "        dummies.append((lat + np.random.uniform(-radius, radius),\n",
    "                        lon + np.random.uniform(-radius, radius)))\n",
    "    return dummies\n",
    "\n",
    "# Generate dummy locations for each user\n",
    "dummy_locations = [generate_dummy_locations(lat, lon) for lat, lon in zip(real_latitudes, real_longitudes)]\n",
    "\n",
    "# Convert data to a DataFrame\n",
    "df_locations = pd.DataFrame({\n",
    "    \"real_latitude\": real_latitudes,\n",
    "    \"real_longitude\": real_longitudes,\n",
    "    \"dummy_locations\": dummy_locations\n",
    "})\n",
    "\n",
    "# Display sample\n",
    "df_locations.head()\n"
   ]
  },
  {
   "cell_type": "markdown",
   "id": "2ea31196",
   "metadata": {},
   "source": [
    "\n",
    "## Conclusion\n",
    "\n",
    "In this notebook, we explored **privacy techniques in graphs and location-based services**:\n",
    "\n",
    "1. **Graph Privacy** - Used **edge perturbation** to anonymize graph structures.\n",
    "2. **Location Privacy** - Implemented **dummy locations** to hide real user locations.\n",
    "\n",
    "These techniques are critical for **privacy-preserving data analysis** in modern applications.\n",
    "\n",
    "Thank you for following along! 🚀\n"
   ]
  }
 ],
 "metadata": {},
 "nbformat": 4,
 "nbformat_minor": 5
}
