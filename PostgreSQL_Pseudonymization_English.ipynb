{
 "cells": [
  {
   "cell_type": "markdown",
   "id": "143d57c1",
   "metadata": {},
   "source": [
    "# Data Pseudonymization with PostgreSQL\n",
    "This notebook demonstrates how to implement **pseudonymization** techniques in **PostgreSQL** to protect sensitive data while maintaining usability.\n",
    "\n",
    "Pseudonymization replaces personally identifiable information (PII) with artificial identifiers, enhancing **data security** and **compliance with privacy regulations** such as GDPR and HIPAA.\n"
   ]
  },
  {
   "cell_type": "markdown",
   "id": "d8c35a27",
   "metadata": {},
   "source": [
    "## 1️⃣ Setting Up the Database\n",
    "First, we need to establish a connection to PostgreSQL and ensure that our database is created."
   ]
  },
  {
   "cell_type": "code",
   "execution_count": null,
   "id": "66f3d0ae",
   "metadata": {},
   "outputs": [],
   "source": [
    "from sqlalchemy import create_engine\n",
    "import psycopg2\n",
    "\n",
    "# PostgreSQL connection settings\n",
    "PG_ADDR = 'localhost'  # Server address\n",
    "PG_PORT = '5432'       # PostgreSQL port\n",
    "PG_USER = 'postgres'   # Admin user\n",
    "PG_PASW = 'secure_password'  # Secure password\n",
    "PG_DBNA = 'privacy_db'  # Database name\n",
    "\n",
    "# Connect to the default PostgreSQL database to check and create if needed\n",
    "default_engine = create_engine(f'postgresql://{PG_USER}:{PG_PASW}@{PG_ADDR}:{PG_PORT}/postgres')\n",
    "\n",
    "with default_engine.connect().execution_options(autocommit=True) as conn:\n",
    "    result = conn.execute(\"SELECT 1 FROM pg_database WHERE datname = %s;\", (PG_DBNA,))\n",
    "    exists = result.scalar()\n",
    "    \n",
    "    if not exists:\n",
    "        conn.execute(f\"CREATE DATABASE {PG_DBNA};\")\n",
    "        print(f\"Database '{PG_DBNA}' created successfully!\")\n",
    "\n",
    "# Now connect to the newly created database\n",
    "engine = create_engine(f'postgresql://{PG_USER}:{PG_PASW}@{PG_ADDR}:{PG_PORT}/{PG_DBNA}')\n",
    "print(f\"Connected to database '{PG_DBNA}'.\")"
   ]
  },
  {
   "cell_type": "markdown",
   "id": "a6f5b2f0",
   "metadata": {},
   "source": [
    "## 2️⃣ Creating and Populating the Patients Table\n",
    "Now, we will create a **patients** table containing sensitive data and insert some sample records."
   ]
  },
  {
   "cell_type": "code",
   "execution_count": null,
   "id": "86ee32f3",
   "metadata": {},
   "outputs": [],
   "source": [
    "with engine.connect().execution_options(autocommit=True) as conn:\n",
    "    conn.execute('''DROP TABLE IF EXISTS patients;''')\n",
    "    conn.execute('''\n",
    "        CREATE TABLE patients (\n",
    "            id SERIAL PRIMARY KEY,\n",
    "            full_name VARCHAR(100),\n",
    "            birth_date DATE,\n",
    "            country VARCHAR(50),\n",
    "            medical_condition VARCHAR(100),\n",
    "            insurance_amount DECIMAL(10,2)\n",
    "        );\n",
    "    ''')\n",
    "print(\"Table 'patients' created successfully!\")"
   ]
  },
  {
   "cell_type": "code",
   "execution_count": null,
   "id": "b69b3cfa",
   "metadata": {},
   "outputs": [],
   "source": [
    "with engine.connect().execution_options(autocommit=True) as conn:\n",
    "    conn.execute(\"INSERT INTO patients (full_name, birth_date, country, medical_condition, insurance_amount) VALUES ('Lisa Crane', '1949-09-12', 'Estonia', 'Diabetes', 6299.37);\")\n",
    "    conn.execute(\"INSERT INTO patients (full_name, birth_date, country, medical_condition, insurance_amount) VALUES ('James Miller', '1988-06-11', 'Syrian Arab Republic', 'Diabetes', 6947.08);\")\n",
    "    conn.execute(\"INSERT INTO patients (full_name, birth_date, country, medical_condition, insurance_amount) VALUES ('Alyssa Scott', '1952-01-09', 'Barbados', 'Heart Condition', 4893.43);\")\n",
    "    conn.execute(\"INSERT INTO patients (full_name, birth_date, country, medical_condition, insurance_amount) VALUES ('John Bennett', '1989-11-06', 'Guinea-Bissau', 'Kidney Failure', 4968.43);\")\n",
    "    conn.execute(\"INSERT INTO patients (full_name, birth_date, country, medical_condition, insurance_amount) VALUES ('Jennifer Pearson', '2006-04-01', 'Trinidad and Tobago', 'Kidney Failure', 4032.72);\")\n",
    "    conn.execute(\"INSERT INTO patients (full_name, birth_date, country, medical_condition, insurance_amount) VALUES ('Isaac Peterson', '1982-10-20', 'Israel', 'Diabetes', 1130.04);\")\n",
    "    conn.execute(\"INSERT INTO patients (full_name, birth_date, country, medical_condition, insurance_amount) VALUES ('Christina Watkins', '1956-11-05', 'Cyprus', 'Heart Condition', 5324.68);\")\n",
    "    conn.execute(\"INSERT INTO patients (full_name, birth_date, country, medical_condition, insurance_amount) VALUES ('Stanley Hodges', '1943-04-11', 'Ghana', 'Diabetes', 1692.54);\")\n",
    "    conn.execute(\"INSERT INTO patients (full_name, birth_date, country, medical_condition, insurance_amount) VALUES ('William Chapman', '1965-03-03', 'Monaco', 'Kidney Failure', 3411.38);\")\n",
    "    conn.execute(\"INSERT INTO patients (full_name, birth_date, country, medical_condition, insurance_amount) VALUES ('Stacey Arroyo', '1993-04-27', 'Svalbard & Jan Mayen Islands', 'Heart Condition', 1977.34);\")\n",
    "print(\"Sample patient data inserted successfully!\")"
   ]
  },
  {
   "cell_type": "markdown",
   "id": "afe9c860",
   "metadata": {},
   "source": [
    "## 3️⃣ Implementing Pseudonymization\n",
    "We will replace **full names** with a hashed identifier while keeping other fields unchanged."
   ]
  },
  {
   "cell_type": "code",
   "execution_count": null,
   "id": "fe1a1566",
   "metadata": {},
   "outputs": [],
   "source": [
    "with engine.connect().execution_options(autocommit=True) as conn:\n",
    "    conn.execute(\"ALTER TABLE patients ADD COLUMN pseudonym VARCHAR(64);\")\n",
    "    conn.execute(\"UPDATE patients SET pseudonym = md5(full_name || birth_date::TEXT);\")\n",
    "print(\"Pseudonymization applied successfully!\")"
   ]
  },
  {
   "cell_type": "markdown",
   "id": "14e25bf7",
   "metadata": {},
   "source": [
    "## 4️⃣ Verifying Pseudonymized Data\n",
    "Let's check how the pseudonymized patient data looks."
   ]
  },
  {
   "cell_type": "code",
   "execution_count": null,
   "id": "a9f3d448",
   "metadata": {},
   "outputs": [],
   "source": [
    "import pandas as pd\n",
    "\n",
    "with engine.connect() as conn:\n",
    "    df = pd.read_sql(\"SELECT id, pseudonym, birth_date, country, medical_condition FROM patients;\", conn)\n",
    "print(df.head())"
   ]
  },
  {
   "cell_type": "markdown",
   "id": "173580f3",
   "metadata": {},
   "source": [
    "## 5️⃣ Key Takeaways and Insights\n",
    "- **Pseudonymization enhances data security** while preserving analytical usability.\n",
    "- **Full names are replaced** with hashed pseudonyms, preventing direct identification.\n",
    "- **This method supports compliance** with privacy laws like GDPR and HIPAA.\n",
    "- **Pseudonymized data can still be used** for statistical analysis and research.\n",
    "\n",
    "🚀 Next Steps:\n",
    "- Implement **reversible pseudonymization** using encryption keys.\n",
    "- Explore **differential privacy** techniques for stronger anonymization.\n"
   ]
  }
 ],
 "metadata": {},
 "nbformat": 4,
 "nbformat_minor": 5
}
