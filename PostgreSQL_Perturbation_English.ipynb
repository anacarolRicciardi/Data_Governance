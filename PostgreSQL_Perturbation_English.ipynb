{
 "cells": [
  {
   "cell_type": "markdown",
   "id": "38bd3612",
   "metadata": {},
   "source": [
    "# Data Perturbation in PostgreSQL\n",
    "This notebook demonstrates how to implement **data perturbation** techniques in **PostgreSQL** to introduce controlled randomness into datasets, enhancing privacy.\n",
    "\n",
    "Data perturbation helps protect **sensitive numerical values** while preserving statistical properties, making it useful for **privacy-preserving data analysis** and compliance with **GDPR, HIPAA, and other privacy regulations**.\n"
   ]
  },
  {
   "cell_type": "markdown",
   "id": "bcc3e31d",
   "metadata": {},
   "source": [
    "## 1️⃣ Setting Up the Database\n",
    "First, we need to establish a connection to PostgreSQL and ensure that our database is created."
   ]
  },
  {
   "cell_type": "code",
   "execution_count": null,
   "id": "de17a4ba",
   "metadata": {},
   "outputs": [],
   "source": [
    "from sqlalchemy import create_engine\n",
    "import psycopg2\n",
    "\n",
    "# PostgreSQL connection settings\n",
    "PG_ADDR = 'localhost'  # Server address\n",
    "PG_PORT = '5432'       # PostgreSQL port\n",
    "PG_USER = 'postgres'   # Admin user\n",
    "PG_PASW = 'secure_password'  # Secure password\n",
    "PG_DBNA = 'perturbation_db'  # Database name\n",
    "\n",
    "# Connect to the default PostgreSQL database to check and create if needed\n",
    "default_engine = create_engine(f'postgresql://{PG_USER}:{PG_PASW}@{PG_ADDR}:{PG_PORT}/postgres')\n",
    "\n",
    "with default_engine.connect().execution_options(autocommit=True) as conn:\n",
    "    result = conn.execute(\"SELECT 1 FROM pg_database WHERE datname = %s;\", (PG_DBNA,))\n",
    "    exists = result.scalar()\n",
    "    \n",
    "    if not exists:\n",
    "        conn.execute(f\"CREATE DATABASE {PG_DBNA};\")\n",
    "        print(f\"Database '{PG_DBNA}' created successfully!\")\n",
    "\n",
    "# Now connect to the newly created database\n",
    "engine = create_engine(f'postgresql://{PG_USER}:{PG_PASW}@{PG_ADDR}:{PG_PORT}/{PG_DBNA}')\n",
    "print(f\"Connected to database '{PG_DBNA}'.\")"
   ]
  },
  {
   "cell_type": "markdown",
   "id": "1c54521b",
   "metadata": {},
   "source": [
    "## 2️⃣ Creating and Populating the Patients Table\n",
    "Now, we will create a **patients** table containing numerical data and insert some sample records before applying perturbation techniques."
   ]
  },
  {
   "cell_type": "code",
   "execution_count": null,
   "id": "e436db33",
   "metadata": {},
   "outputs": [],
   "source": [
    "with engine.connect().execution_options(autocommit=True) as conn:\n",
    "    conn.execute('''DROP TABLE IF EXISTS patients;''')\n",
    "    conn.execute('''\n",
    "        CREATE TABLE patients (\n",
    "            id SERIAL PRIMARY KEY,\n",
    "            full_name VARCHAR(100),\n",
    "            birth_date DATE,\n",
    "            country VARCHAR(50),\n",
    "            medical_condition VARCHAR(100),\n",
    "            medical_expense DECIMAL(10,2)\n",
    "        );\n",
    "    ''')\n",
    "print(\"Table 'patients' created successfully!\")"
   ]
  },
  {
   "cell_type": "code",
   "execution_count": null,
   "id": "75f19c90",
   "metadata": {},
   "outputs": [],
   "source": [
    "with engine.connect().execution_options(autocommit=True) as conn:\n",
    "    conn.execute(\"INSERT INTO patients (full_name, birth_date, country, medical_condition, medical_expense) VALUES ('Holly Hess', '1984-03-05', 'Honduras', 'Diabetes', 6357.33);\")\n",
    "    conn.execute(\"INSERT INTO patients (full_name, birth_date, country, medical_condition, medical_expense) VALUES ('Tina Quinn', '1955-08-24', 'Malta', 'Heart Condition', 1784.26);\")\n",
    "    conn.execute(\"INSERT INTO patients (full_name, birth_date, country, medical_condition, medical_expense) VALUES ('Eric Doyle', '1982-07-17', 'Namibia', 'Respiratory Issues', 5204.99);\")\n",
    "    conn.execute(\"INSERT INTO patients (full_name, birth_date, country, medical_condition, medical_expense) VALUES ('Lisa Ford', '2006-09-11', 'Suriname', 'Kidney Disease', 2389.86);\")\n",
    "    conn.execute(\"INSERT INTO patients (full_name, birth_date, country, medical_condition, medical_expense) VALUES ('Madison Martinez', '2001-07-10', 'Svalbard & Jan Mayen Islands', 'Heart Condition', 6792.99);\")\n",
    "    conn.execute(\"INSERT INTO patients (full_name, birth_date, country, medical_condition, medical_expense) VALUES ('Barbara Lawrence', '1969-02-27', 'Israel', 'Respiratory Issues', 1175.56);\")\n",
    "    conn.execute(\"INSERT INTO patients (full_name, birth_date, country, medical_condition, medical_expense) VALUES ('Nathan Thornton', '1951-07-17', 'Colombia', 'Diabetes', 7734.64);\")\n",
    "    conn.execute(\"INSERT INTO patients (full_name, birth_date, country, medical_condition, medical_expense) VALUES ('Tina Burns', '1958-05-29', 'Guadeloupe', 'Heart Condition', 1032.71);\")\n",
    "    conn.execute(\"INSERT INTO patients (full_name, birth_date, country, medical_condition, medical_expense) VALUES ('Margaret Skinner DVM', '1989-10-19', 'Brunei Darussalam', 'Heart Condition', 8953.92);\")\n",
    "    conn.execute(\"INSERT INTO patients (full_name, birth_date, country, medical_condition, medical_expense) VALUES ('Vanessa Weber', '1943-08-18', 'Jamaica', 'Kidney Disease', 6620.94);\")\n",
    "print(\"Sample patient data inserted successfully!\")"
   ]
  },
  {
   "cell_type": "markdown",
   "id": "264709a9",
   "metadata": {},
   "source": [
    "## 3️⃣ Implementing Data Perturbation\n",
    "We will apply controlled noise to **medical expenses**, ensuring that the data remains useful for analysis while reducing the risk of re-identification."
   ]
  },
  {
   "cell_type": "code",
   "execution_count": null,
   "id": "4404d61e",
   "metadata": {},
   "outputs": [],
   "source": [
    "import random\n",
    "\n",
    "def perturb_expense(expense):\n",
    "    \"\"\"Adds controlled noise to medical expenses while keeping realistic values.\"\"\"\n",
    "    noise = random.uniform(-100, 100)  # Adding noise within a controlled range\n",
    "    return max(0, round(expense + noise, 2))\n",
    "\n",
    "# Apply perturbation to the 'medical_expense' column\n",
    "with engine.connect().execution_options(autocommit=True) as conn:\n",
    "    conn.execute(\"ALTER TABLE patients ADD COLUMN perturbed_expense DECIMAL(10,2);\")\n",
    "    conn.execute(\"UPDATE patients SET perturbed_expense = medical_expense + (RANDOM() * 200 - 100);\")\n",
    "print(\"Perturbation applied successfully!\")"
   ]
  },
  {
   "cell_type": "markdown",
   "id": "e43fd7a5",
   "metadata": {},
   "source": [
    "## 4️⃣ Verifying Perturbed Data\n",
    "Let's check how the perturbed medical expenses compare to the original values."
   ]
  },
  {
   "cell_type": "code",
   "execution_count": null,
   "id": "e519c21e",
   "metadata": {},
   "outputs": [],
   "source": [
    "import pandas as pd\n",
    "\n",
    "with engine.connect() as conn:\n",
    "    df = pd.read_sql(\"SELECT id, full_name, country, medical_condition, medical_expense, perturbed_expense FROM patients;\", conn)\n",
    "print(df.head())"
   ]
  },
  {
   "cell_type": "markdown",
   "id": "397378b9",
   "metadata": {},
   "source": [
    "## 5️⃣ Key Takeaways and Insights\n",
    "- **Perturbation enhances data privacy** by introducing small controlled changes to numerical values.\n",
    "- **Medical expenses are slightly altered**, reducing the risk of linking records to individuals.\n",
    "- **This method ensures compliance** with privacy laws while maintaining data usability.\n",
    "- **Perturbed data remains valuable** for aggregate analysis and machine learning models.\n",
    "\n",
    "🚀 Next Steps:\n",
    "- Implement **differential privacy** for more robust protection.\n",
    "- Explore **synthetic data generation** as an alternative to perturbation.\n"
   ]
  }
 ],
 "metadata": {},
 "nbformat": 4,
 "nbformat_minor": 5
}
