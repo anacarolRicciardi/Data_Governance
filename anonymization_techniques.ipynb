{
 "cells": [
  {
   "cell_type": "markdown",
   "id": "42a8315a",
   "metadata": {},
   "source": [
    "# Anonymization Techniques: K-Anonymity, L-Diversity, and Data Perturbation"
   ]
  },
  {
   "cell_type": "markdown",
   "id": "ec499244",
   "metadata": {},
   "source": [
    "\n",
    "## Introduction\n",
    "\n",
    "In an era of increasing concerns over data privacy, ensuring anonymity in datasets is crucial. \n",
    "This notebook explores three key anonymization techniques: **K-Anonymity, L-Diversity, and Data Perturbation**.\n",
    "We will generate a synthetic dataset and demonstrate how these techniques can protect sensitive data while maintaining analytical utility.\n",
    "\n",
    "### Topics Covered\n",
    "1. **K-Anonymity** - Ensuring each record is indistinguishable from at least k-1 others.\n",
    "2. **L-Diversity** - Enhancing K-Anonymity by ensuring diversity in sensitive attributes.\n",
    "3. **Data Perturbation** - Adding noise to protect numerical values while preserving usability.\n"
   ]
  },
  {
   "cell_type": "markdown",
   "id": "11adf069",
   "metadata": {},
   "source": [
    "## Importing Libraries"
   ]
  },
  {
   "cell_type": "code",
   "execution_count": null,
   "id": "3dc83082",
   "metadata": {},
   "outputs": [],
   "source": [
    "\n",
    "import numpy as np\n",
    "import pandas as pd\n",
    "import matplotlib.pyplot as plt\n",
    "import random\n"
   ]
  },
  {
   "cell_type": "markdown",
   "id": "af18a118",
   "metadata": {},
   "source": [
    "## Generating a Synthetic Dataset"
   ]
  },
  {
   "cell_type": "code",
   "execution_count": null,
   "id": "fe452867",
   "metadata": {},
   "outputs": [],
   "source": [
    "\n",
    "# Set seed for reproducibility\n",
    "random.seed(42)\n",
    "np.random.seed(42)\n",
    "\n",
    "# Creating a synthetic dataset\n",
    "num_samples = 1000\n",
    "ages = np.random.randint(18, 80, num_samples)\n",
    "incomes = np.random.randint(20000, 100000, num_samples)\n",
    "conditions = np.random.choice([\"Diabetes\", \"Hypertension\", \"None\"], num_samples, p=[0.3, 0.3, 0.4])\n",
    "\n",
    "df = pd.DataFrame({\n",
    "    \"id\": range(num_samples),\n",
    "    \"age\": ages,\n",
    "    \"income\": incomes,\n",
    "    \"condition\": conditions\n",
    "})\n"
   ]
  },
  {
   "cell_type": "markdown",
   "id": "26b4f5e9",
   "metadata": {},
   "source": [
    "## K-Anonymity Implementation"
   ]
  },
  {
   "cell_type": "code",
   "execution_count": null,
   "id": "0dcbdbce",
   "metadata": {},
   "outputs": [],
   "source": [
    "\n",
    "# Function to group by age and income range\n",
    "def apply_k_anonymity(df, k=5):\n",
    "    df[\"age_group\"] = (df[\"age\"] // 5) * 5  # Group ages into bins of 5 years\n",
    "    df[\"income_group\"] = (df[\"income\"] // 10000) * 10000  # Group income in bins of 10k\n",
    "    df.drop(columns=[\"age\", \"income\"], inplace=True)\n",
    "    return df\n",
    "\n",
    "df_k_anonymous = apply_k_anonymity(df.copy())\n"
   ]
  },
  {
   "cell_type": "markdown",
   "id": "ad5aa700",
   "metadata": {},
   "source": [
    "## L-Diversity Implementation"
   ]
  },
  {
   "cell_type": "code",
   "execution_count": null,
   "id": "07a35e1f",
   "metadata": {},
   "outputs": [],
   "source": [
    "\n",
    "# Function to check L-Diversity\n",
    "def check_l_diversity(df, l=2):\n",
    "    diverse = df.groupby([\"age_group\", \"income_group\"])['condition'].nunique()\n",
    "    return (diverse >= l).all()\n",
    "\n",
    "l_diverse = check_l_diversity(df_k_anonymous)\n"
   ]
  },
  {
   "cell_type": "markdown",
   "id": "578a04ce",
   "metadata": {},
   "source": [
    "## Data Perturbation Implementation"
   ]
  },
  {
   "cell_type": "code",
   "execution_count": null,
   "id": "227ea6b8",
   "metadata": {},
   "outputs": [],
   "source": [
    "\n",
    "# Define function to add noise to income\n",
    "def perturb_income(value, noise_magnitude):\n",
    "    noise = random.uniform(-noise_magnitude, noise_magnitude)\n",
    "    return round(value + noise, 2)\n",
    "\n",
    "df_k_anonymous[\"perturbed_income\"] = df_k_anonymous[\"income_group\"].apply(lambda x: perturb_income(x, 5000))\n"
   ]
  },
  {
   "cell_type": "markdown",
   "id": "823238fd",
   "metadata": {},
   "source": [
    "## Evaluating the Impact"
   ]
  },
  {
   "cell_type": "code",
   "execution_count": null,
   "id": "353f4fda",
   "metadata": {},
   "outputs": [],
   "source": [
    "\n",
    "# Function to calculate error\n",
    "def calculate_error(original, perturbed):\n",
    "    return np.sum((original - perturbed) ** 2)\n",
    "\n",
    "error = calculate_error(df_k_anonymous[\"income_group\"], df_k_anonymous[\"perturbed_income\"])\n"
   ]
  },
  {
   "cell_type": "markdown",
   "id": "bbac708e",
   "metadata": {},
   "source": [
    "## Visualizing the Results"
   ]
  },
  {
   "cell_type": "code",
   "execution_count": null,
   "id": "29c3467f",
   "metadata": {},
   "outputs": [],
   "source": [
    "\n",
    "# Plot impact of perturbation\n",
    "plt.figure(figsize=(8, 5))\n",
    "plt.hist(df_k_anonymous[\"income_group\"], alpha=0.5, label=\"Original Income\")\n",
    "plt.hist(df_k_anonymous[\"perturbed_income\"], alpha=0.5, label=\"Perturbed Income\")\n",
    "plt.xlabel(\"Income Group\")\n",
    "plt.ylabel(\"Frequency\")\n",
    "plt.legend()\n",
    "plt.title(\"Income Distribution Before and After Perturbation\")\n",
    "plt.show()\n"
   ]
  },
  {
   "cell_type": "markdown",
   "id": "9caa0810",
   "metadata": {},
   "source": [
    "\n",
    "## Conclusion\n",
    "\n",
    "- **K-Anonymity** ensures individuals are grouped to prevent unique identification.\n",
    "- **L-Diversity** extends K-Anonymity by ensuring sensitive attributes remain diverse.\n",
    "- **Data Perturbation** modifies numerical attributes to further protect privacy.\n",
    "\n",
    "These techniques are essential for maintaining privacy while allowing meaningful analysis.\n"
   ]
  }
 ],
 "metadata": {},
 "nbformat": 4,
 "nbformat_minor": 5
}
