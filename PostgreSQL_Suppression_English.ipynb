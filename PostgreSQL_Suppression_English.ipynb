{
 "cells": [
  {
   "cell_type": "markdown",
   "id": "04227484",
   "metadata": {},
   "source": [
    "# Data Suppression in PostgreSQL\n",
    "This notebook demonstrates how to implement **data suppression** techniques in **PostgreSQL** to protect sensitive financial information while maintaining usability.\n",
    "\n",
    "Suppression removes or masks certain values based on predefined conditions, helping to enhance **data privacy** and **compliance with regulations** such as GDPR and HIPAA.\n"
   ]
  },
  {
   "cell_type": "markdown",
   "id": "09f115c6",
   "metadata": {},
   "source": [
    "## 1️⃣ Setting Up the Database\n",
    "First, we need to establish a connection to PostgreSQL and ensure that our database is created."
   ]
  },
  {
   "cell_type": "code",
   "execution_count": null,
   "id": "c1e65178",
   "metadata": {},
   "outputs": [],
   "source": [
    "from sqlalchemy import create_engine\n",
    "import psycopg2\n",
    "\n",
    "# PostgreSQL connection settings\n",
    "PG_ADDR = 'localhost'  # Server address\n",
    "PG_PORT = '5432'       # PostgreSQL port\n",
    "PG_USER = 'postgres'   # Admin user\n",
    "PG_PASW = 'secure_password'  # Secure password\n",
    "PG_DBNA = 'suppression_db'  # Database name\n",
    "\n",
    "# Connect to the default PostgreSQL database to check and create if needed\n",
    "default_engine = create_engine(f'postgresql://{PG_USER}:{PG_PASW}@{PG_ADDR}:{PG_PORT}/postgres')\n",
    "\n",
    "with default_engine.connect().execution_options(autocommit=True) as conn:\n",
    "    result = conn.execute(\"SELECT 1 FROM pg_database WHERE datname = %s;\", (PG_DBNA,))\n",
    "    exists = result.scalar()\n",
    "    \n",
    "    if not exists:\n",
    "        conn.execute(f\"CREATE DATABASE {PG_DBNA};\")\n",
    "        print(f\"Database '{PG_DBNA}' created successfully!\")\n",
    "\n",
    "# Now connect to the newly created database\n",
    "engine = create_engine(f'postgresql://{PG_USER}:{PG_PASW}@{PG_ADDR}:{PG_PORT}/{PG_DBNA}')\n",
    "print(f\"Connected to database '{PG_DBNA}'.\")"
   ]
  },
  {
   "cell_type": "markdown",
   "id": "93658739",
   "metadata": {},
   "source": [
    "## 2️⃣ Creating and Populating the Patients Table\n",
    "Now, we will create a **patients** table containing financial data and insert some sample records."
   ]
  },
  {
   "cell_type": "code",
   "execution_count": null,
   "id": "64e22b98",
   "metadata": {},
   "outputs": [],
   "source": [
    "with engine.connect().execution_options(autocommit=True) as conn:\n",
    "    conn.execute('''DROP TABLE IF EXISTS patients;''')\n",
    "    conn.execute('''\n",
    "        CREATE TABLE patients (\n",
    "            id SERIAL PRIMARY KEY,\n",
    "            full_name VARCHAR(100),\n",
    "            birth_date DATE,\n",
    "            country VARCHAR(50),\n",
    "            medical_condition VARCHAR(100),\n",
    "            insurance_cost DECIMAL(10,2)\n",
    "        );\n",
    "    ''')\n",
    "print(\"Table 'patients' created successfully!\")"
   ]
  },
  {
   "cell_type": "code",
   "execution_count": null,
   "id": "8c592d7c",
   "metadata": {},
   "outputs": [],
   "source": [
    "with engine.connect().execution_options(autocommit=True) as conn:\n",
    "    conn.execute(\"INSERT INTO patients (full_name, birth_date, country, medical_condition, insurance_cost) VALUES ('Samantha Ford', '1970-01-01', 'Taiwan', 'Heart Condition', 337.38);\")\n",
    "    conn.execute(\"INSERT INTO patients (full_name, birth_date, country, medical_condition, insurance_cost) VALUES ('Rebecca Parker', '1944-07-25', 'Rwanda', 'Lung Disease', 270.66);\")\n",
    "    conn.execute(\"INSERT INTO patients (full_name, birth_date, country, medical_condition, insurance_cost) VALUES ('Donald Phillips', '1946-03-01', 'Jamaica', 'Diabetes', 408.03);\")\n",
    "    conn.execute(\"INSERT INTO patients (full_name, birth_date, country, medical_condition, insurance_cost) VALUES ('Natalie Long', '1983-12-27', 'Sao Tome and Principe', 'Kidney Failure', 978.66);\")\n",
    "    conn.execute(\"INSERT INTO patients (full_name, birth_date, country, medical_condition, insurance_cost) VALUES ('Stephanie Williams', '1945-07-25', 'Kuwait', 'Heart Condition', 694.81);\")\n",
    "    conn.execute(\"INSERT INTO patients (full_name, birth_date, country, medical_condition, insurance_cost) VALUES ('Dr. George Young', '1957-09-18', 'Ireland', 'Kidney Failure', 822.35);\")\n",
    "    conn.execute(\"INSERT INTO patients (full_name, birth_date, country, medical_condition, insurance_cost) VALUES ('John Baker', '1971-10-22', 'New Zealand', 'Diabetes', 782.03);\")\n",
    "    conn.execute(\"INSERT INTO patients (full_name, birth_date, country, medical_condition, insurance_cost) VALUES ('Amanda Johnson', '1958-06-13', 'Sri Lanka', 'Kidney Failure', 385.76);\")\n",
    "    conn.execute(\"INSERT INTO patients (full_name, birth_date, country, medical_condition, insurance_cost) VALUES ('Shaun Roberts', '2004-04-28', 'Saint Kitts and Nevis', 'Lung Disease', 466.35);\")\n",
    "    conn.execute(\"INSERT INTO patients (full_name, birth_date, country, medical_condition, insurance_cost) VALUES ('Mrs. Audrey Wolfe', '1945-05-26', 'Tajikistan', 'Heart Condition', 799.51);\")\n",
    "print(\"Sample patient data inserted successfully!\")"
   ]
  },
  {
   "cell_type": "markdown",
   "id": "c12d443b",
   "metadata": {},
   "source": [
    "## 3️⃣ Implementing Data Suppression\n",
    "We will suppress **insurance cost values** above a certain threshold to ensure financial privacy."
   ]
  },
  {
   "cell_type": "code",
   "execution_count": null,
   "id": "cf78cce2",
   "metadata": {},
   "outputs": [],
   "source": [
    "def suppress_insurance_cost(cost):\n",
    "    \"\"\"Suppresses insurance cost if greater than 300.\"\"\"\n",
    "    return -1 if cost > 300 else cost\n",
    "\n",
    "# Apply suppression to the 'insurance_cost' column\n",
    "with engine.connect().execution_options(autocommit=True) as conn:\n",
    "    conn.execute(\"UPDATE patients SET insurance_cost = -1 WHERE insurance_cost > 300;\")\n",
    "print(\"Suppression applied successfully!\")"
   ]
  },
  {
   "cell_type": "markdown",
   "id": "b4dd24aa",
   "metadata": {},
   "source": [
    "## 4️⃣ Verifying Suppressed Data\n",
    "Let's check how the suppressed financial data looks."
   ]
  },
  {
   "cell_type": "code",
   "execution_count": null,
   "id": "bb0d46f1",
   "metadata": {},
   "outputs": [],
   "source": [
    "import pandas as pd\n",
    "\n",
    "with engine.connect() as conn:\n",
    "    df = pd.read_sql(\"SELECT id, full_name, country, medical_condition, insurance_cost FROM patients;\", conn)\n",
    "print(df.head())"
   ]
  },
  {
   "cell_type": "markdown",
   "id": "76fe5ec6",
   "metadata": {},
   "source": [
    "## 5️⃣ Key Takeaways and Insights\n",
    "- **Suppression enhances financial privacy** by replacing sensitive values.\n",
    "- **Insurance cost values above 300** are masked with `-1`.\n",
    "- **This method ensures compliance** with privacy laws like GDPR and HIPAA.\n",
    "- **Suppressed data can still be used** for aggregate financial analysis.\n",
    "\n",
    "🚀 Next Steps:\n",
    "- Implement **conditional suppression based on additional criteria**.\n",
    "- Explore **data masking techniques** for better privacy control.\n"
   ]
  }
 ],
 "metadata": {},
 "nbformat": 4,
 "nbformat_minor": 5
}
