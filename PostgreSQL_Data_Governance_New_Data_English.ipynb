{
 "cells": [
  {
   "cell_type": "markdown",
   "id": "337a8dc2",
   "metadata": {},
   "source": [
    "# PostgreSQL Data Governance Demonstration\n",
    "This notebook demonstrates how to implement **data governance** principles using PostgreSQL. It covers user management, access control, and best practices for securing sensitive data.\n",
    "\n",
    "We will work with a sample **patients database**, ensuring compliance with privacy and security regulations.\n"
   ]
  },
  {
   "cell_type": "markdown",
   "id": "b48aad9b",
   "metadata": {},
   "source": [
    "## Database Connection Setup\n",
    "First, let's set up the connection to our PostgreSQL database."
   ]
  },
  {
   "cell_type": "code",
   "execution_count": null,
   "id": "5c32c016",
   "metadata": {},
   "outputs": [],
   "source": [
    "from sqlalchemy import create_engine\n",
    "import psycopg2\n",
    "\n",
    "# PostgreSQL connection settings\n",
    "PG_ADDR = 'localhost'  # Server address\n",
    "PG_PORT = '5432'       # PostgreSQL port\n",
    "PG_USER = 'postgres'   # Admin user\n",
    "PG_PASW = 'secure_password'  # Secure password\n",
    "PG_DBNA = 'healthcare_db'  # Database name\n",
    "\n",
    "# Connect to the default PostgreSQL database to check and create if needed\n",
    "default_engine = create_engine(f'postgresql://{PG_USER}:{PG_PASW}@{PG_ADDR}:{PG_PORT}/postgres')\n",
    "\n",
    "with default_engine.connect().execution_options(autocommit=True) as conn:\n",
    "    result = conn.execute(\"SELECT 1 FROM pg_database WHERE datname = %s;\", (PG_DBNA,))\n",
    "    exists = result.scalar()\n",
    "    \n",
    "    if not exists:\n",
    "        conn.execute(f\"CREATE DATABASE {PG_DBNA};\")\n",
    "        print(f\"Database '{PG_DBNA}' created successfully!\")\n",
    "\n",
    "# Now connect to the newly created database\n",
    "engine = create_engine(f'postgresql://{PG_USER}:{PG_PASW}@{PG_ADDR}:{PG_PORT}/{PG_DBNA}')\n",
    "print(f\"Connected to database '{PG_DBNA}'.\")"
   ]
  },
  {
   "cell_type": "markdown",
   "id": "ea175334",
   "metadata": {},
   "source": [
    "## Creating the Patients Table\n",
    "Let's create a new table to store patient information. This table includes sensitive data, so we will ensure proper access control."
   ]
  },
  {
   "cell_type": "code",
   "execution_count": null,
   "id": "43e3bef1",
   "metadata": {},
   "outputs": [],
   "source": [
    "with engine.connect().execution_options(autocommit=True) as conn:\n",
    "    conn.execute('''DROP TABLE IF EXISTS patients;''')\n",
    "    conn.execute('''\n",
    "        CREATE TABLE patients (\n",
    "            id SERIAL PRIMARY KEY,\n",
    "            full_name VARCHAR(100),\n",
    "            date_of_birth DATE,\n",
    "            country VARCHAR(50),\n",
    "            diagnosis VARCHAR(100),\n",
    "            insurance_amount DECIMAL(10,2)\n",
    "        );\n",
    "    ''')\n",
    "print(\"Table 'patients' created successfully!\")"
   ]
  },
  {
   "cell_type": "markdown",
   "id": "c00e1cb1",
   "metadata": {},
   "source": [
    "## Inserting Sample Patient Data\n",
    "Now, we will populate the **patients** table with fictitious data."
   ]
  },
  {
   "cell_type": "code",
   "execution_count": null,
   "id": "aefd086c",
   "metadata": {},
   "outputs": [],
   "source": [
    "with engine.connect().execution_options(autocommit=True) as conn:\n",
    "    conn.execute(\"INSERT INTO patients (full_name, date_of_birth, country, diagnosis, insurance_amount) VALUES ('Ashley Bass', '1943-08-20', 'Uruguay', 'Hypertension', 2067.78);\")\n",
    "    conn.execute(\"INSERT INTO patients (full_name, date_of_birth, country, diagnosis, insurance_amount) VALUES ('Robert Fox', '1996-06-12', 'Iraq', 'Cancer', 2531.34);\")\n",
    "    conn.execute(\"INSERT INTO patients (full_name, date_of_birth, country, diagnosis, insurance_amount) VALUES ('Monica Douglas', '1931-03-21', 'Gibraltar', 'Hypertension', 3910.82);\")\n",
    "    conn.execute(\"INSERT INTO patients (full_name, date_of_birth, country, diagnosis, insurance_amount) VALUES ('Vanessa Monroe', '1992-07-27', 'Sierra Leone', 'Diabetes', 4399.5);\")\n",
    "    conn.execute(\"INSERT INTO patients (full_name, date_of_birth, country, diagnosis, insurance_amount) VALUES ('Joel Parker', '1977-01-08', 'American Samoa', 'Diabetes', 2419.18);\")\n",
    "    conn.execute(\"INSERT INTO patients (full_name, date_of_birth, country, diagnosis, insurance_amount) VALUES ('Gabriel Jones', '1973-03-24', 'Lithuania', 'Diabetes', 2228.6);\")\n",
    "    conn.execute(\"INSERT INTO patients (full_name, date_of_birth, country, diagnosis, insurance_amount) VALUES ('David Barnes', '1977-01-09', 'Mali', 'Cancer', 3369.18);\")\n",
    "    conn.execute(\"INSERT INTO patients (full_name, date_of_birth, country, diagnosis, insurance_amount) VALUES ('Amanda Brown', '2017-05-23', 'Russian Federation', 'Diabetes', 4962.82);\")\n",
    "    conn.execute(\"INSERT INTO patients (full_name, date_of_birth, country, diagnosis, insurance_amount) VALUES ('Monica Rodriguez', '1932-10-12', 'Marshall Islands', 'Diabetes', 1331.74);\")\n",
    "    conn.execute(\"INSERT INTO patients (full_name, date_of_birth, country, diagnosis, insurance_amount) VALUES ('Hayley Zamora', '1967-08-08', 'Guyana', 'Hypertension', 939.9);\")\n",
    "print(\"Sample patient data inserted successfully!\")"
   ]
  },
  {
   "cell_type": "markdown",
   "id": "47d312d5",
   "metadata": {},
   "source": [
    "## Managing User Access\n",
    "We will now create three new users with different roles and apply access restrictions."
   ]
  },
  {
   "cell_type": "code",
   "execution_count": null,
   "id": "31c08537",
   "metadata": {},
   "outputs": [],
   "source": [
    "users = ['nurse', 'consultant', 'doctor']\n",
    "\n",
    "with engine.connect().execution_options(autocommit=True) as conn:\n",
    "    for user in users:\n",
    "        conn.execute(f\"DROP USER IF EXISTS {user};\")\n",
    "        conn.execute(f\"CREATE USER {user} WITH PASSWORD 'password123';\")\n",
    "print(\"Users created successfully!\")"
   ]
  },
  {
   "cell_type": "markdown",
   "id": "c48754fb",
   "metadata": {},
   "source": [
    "## Revoking Privileges from Admin User\n",
    "To enforce stricter data governance, we will revoke all privileges on the `patients` table from the **postgres** admin user."
   ]
  },
  {
   "cell_type": "code",
   "execution_count": null,
   "id": "0b031301",
   "metadata": {},
   "outputs": [],
   "source": [
    "with engine.connect().execution_options(autocommit=True) as conn:\n",
    "    conn.execute(\"REVOKE ALL PRIVILEGES ON TABLE patients FROM postgres;\")\n",
    "print(\"Privileges revoked from 'postgres' user!\")"
   ]
  },
  {
   "cell_type": "markdown",
   "id": "7d258ea4",
   "metadata": {},
   "source": [
    "## Verifying Permissions\n",
    "Let's check which users currently have access to the `patients` table."
   ]
  },
  {
   "cell_type": "code",
   "execution_count": null,
   "id": "b30246df",
   "metadata": {},
   "outputs": [],
   "source": [
    "with engine.connect() as conn:\n",
    "    result = conn.execute(\n",
    "        \"SELECT grantee, privilege_type FROM information_schema.role_table_grants \"\n",
    "        \"WHERE table_name = 'patients';\"\n",
    "    )\n",
    "    for row in result:\n",
    "        print(row)\n",
    "print(\"Current access privileges displayed!\")"
   ]
  }
 ],
 "metadata": {},
 "nbformat": 4,
 "nbformat_minor": 5
}
